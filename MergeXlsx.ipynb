{
 "cells": [
  {
   "cell_type": "code",
   "execution_count": 3,
   "id": "c5c0d549-8bb1-48f5-b353-634d1f158b5a",
   "metadata": {},
   "outputs": [
    {
     "name": "stdout",
     "output_type": "stream",
     "text": [
      "The Excel files have been successfully merged and shuffled into 'merged_and_shuffled.xlsx'.\n"
     ]
    }
   ],
   "source": [
    "import pandas as pd\n",
    "import os\n",
    "from sklearn.utils import shuffle\n",
    "\n",
    "# List of your Excel files\n",
    "excel_files = ['new_data.xlsx', 'din55.xlsx']\n",
    "\n",
    "# Read each Excel file and store them in a list\n",
    "dataframes = [pd.read_excel(file) for file in excel_files]\n",
    "\n",
    "# Combine all dataframes into a single one\n",
    "combined_df = pd.concat(dataframes, ignore_index=True)\n",
    "\n",
    "# Shuffle the combined dataframe\n",
    "shuffled_df = shuffle(combined_df, random_state=42)\n",
    "\n",
    "# Save the shuffled dataframe to a new Excel file\n",
    "shuffled_df.to_excel('new_data1.xlsx', index=False)\n",
    "\n",
    "print(\"The Excel files have been successfully merged and shuffled into 'merged_and_shuffled.xlsx'.\")\n"
   ]
  },
  {
   "cell_type": "code",
   "execution_count": null,
   "id": "80f9ebce-f381-46a1-96bf-69ad9af9d80c",
   "metadata": {},
   "outputs": [],
   "source": []
  }
 ],
 "metadata": {
  "kernelspec": {
   "display_name": "Python 3 (ipykernel)",
   "language": "python",
   "name": "python3"
  },
  "language_info": {
   "codemirror_mode": {
    "name": "ipython",
    "version": 3
   },
   "file_extension": ".py",
   "mimetype": "text/x-python",
   "name": "python",
   "nbconvert_exporter": "python",
   "pygments_lexer": "ipython3",
   "version": "3.9.0"
  }
 },
 "nbformat": 4,
 "nbformat_minor": 5
}
