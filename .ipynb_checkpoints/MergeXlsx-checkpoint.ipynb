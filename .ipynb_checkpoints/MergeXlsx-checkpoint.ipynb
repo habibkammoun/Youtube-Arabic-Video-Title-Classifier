{
 "cells": [
  {
   "cell_type": "code",
   "execution_count": null,
   "id": "c5c0d549-8bb1-48f5-b353-634d1f158b5a",
   "metadata": {},
   "outputs": [],
   "source": [
    "import pandas as pd\n",
    "import os\n",
    "from sklearn.utils import shuffle\n",
    "\n",
    "# List of your Excel files\n",
    "excel_files = ['din2.xlsx', 'din3.xlsx', 'Full_Data.xlsx', 'Gaming3.xlsx', 'Gaming4.xlsx', 'Gaming5.xlsx', 'din4.xlsx', '.xlsx', '.xlsx', '.xlsx']\n",
    "\n",
    "# Read each Excel file and store them in a list\n",
    "dataframes = [pd.read_excel(file) for file in excel_files]\n",
    "\n",
    "# Combine all dataframes into a single one\n",
    "combined_df = pd.concat(dataframes, ignore_index=True)\n",
    "\n",
    "# Shuffle the combined dataframe\n",
    "shuffled_df = shuffle(combined_df, random_state=42)\n",
    "\n",
    "# Save the shuffled dataframe to a new Excel file\n",
    "shuffled_df.to_excel('new_data.xlsx', index=False)\n",
    "\n",
    "print(\"The Excel files have been successfully merged and shuffled into 'merged_and_shuffled.xlsx'.\")\n"
   ]
  }
 ],
 "metadata": {
  "kernelspec": {
   "display_name": "Python 3 (ipykernel)",
   "language": "python",
   "name": "python3"
  },
  "language_info": {
   "codemirror_mode": {
    "name": "ipython",
    "version": 3
   },
   "file_extension": ".py",
   "mimetype": "text/x-python",
   "name": "python",
   "nbconvert_exporter": "python",
   "pygments_lexer": "ipython3",
   "version": "3.9.0"
  }
 },
 "nbformat": 4,
 "nbformat_minor": 5
}
